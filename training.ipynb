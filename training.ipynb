{
  "nbformat": 4,
  "nbformat_minor": 0,
  "metadata": {
    "colab": {
      "provenance": []
    },
    "kernelspec": {
      "name": "python3",
      "display_name": "Python 3"
    },
    "language_info": {
      "name": "python"
    }
  },
  "cells": [
    {
      "cell_type": "code",
      "execution_count": null,
      "metadata": {
        "id": "d__1Fo4cJNDO"
      },
      "outputs": [],
      "source": [
        "import os\n",
        "import random\n",
        "import shutil\n",
        "from pathlib import Path\n",
        "from tqdm import tqdm\n",
        "import numpy as np\n",
        "\n",
        "import torch\n",
        "import torch.nn as nn\n",
        "import torch.optim as optim\n",
        "from torch.utils.data import DataLoader\n",
        "import torchvision\n",
        "from torchvision import datasets, transforms, models\n",
        "from torchvision.models import EfficientNet_B0_Weights"
      ]
    },
    {
      "cell_type": "code",
      "source": [
        "# =============== Reproducibility ===============\n",
        "seed = 42\n",
        "random.seed(seed)\n",
        "np.random.seed(seed)\n",
        "torch.manual_seed(seed)\n",
        "torch.cuda.manual_seed(seed)\n",
        "torch.backends.cudnn.deterministic = True\n",
        "torch.backends.cudnn.benchmark = False\n",
        "\n",
        "# =============== Config ===============\n",
        "device = torch.device(\"cuda\" if torch.cuda.is_available() else \"cpu\")\n",
        "BATCH_SIZE = 64\n",
        "NUM_CLASSES = 200\n",
        "NUM_EPOCHS = 60\n",
        "LR = 5e-4\n",
        "WEIGHT_DECAY = 1e-4\n",
        "IMG_SIZE = 224\n",
        "MIXUP_ALPHA = 0.2\n",
        "\n",
        "DATA_DIR = \"/home/nvlabs/Samriddhi/capstone/Chatbott/tiny-imagenet-200\"\n",
        "train_dir = os.path.join(DATA_DIR, 'train')\n",
        "val_dir = os.path.join(DATA_DIR, 'val')"
      ],
      "metadata": {
        "id": "bhYB0wfdKKFr"
      },
      "execution_count": null,
      "outputs": []
    },
    {
      "cell_type": "code",
      "source": [
        "# =============== Data Transforms ===============\n",
        "mean = [0.485, 0.456, 0.406]\n",
        "std = [0.229, 0.224, 0.225]\n",
        "\n",
        "train_transform = transforms.Compose([\n",
        "    transforms.RandomResizedCrop(IMG_SIZE),\n",
        "    transforms.RandomHorizontalFlip(),\n",
        "    transforms.RandomRotation(15),\n",
        "    transforms.ColorJitter(0.2, 0.2, 0.2, 0.1),\n",
        "    transforms.RandomGrayscale(p=0.1),\n",
        "    transforms.ToTensor(),\n",
        "    transforms.Normalize(mean, std),\n",
        "])\n",
        "\n",
        "val_transform = transforms.Compose([\n",
        "    transforms.Resize((IMG_SIZE, IMG_SIZE)),\n",
        "    transforms.ToTensor(),\n",
        "    transforms.Normalize(mean, std),\n",
        "])"
      ],
      "metadata": {
        "id": "NEZIIY9GKSgp"
      },
      "execution_count": null,
      "outputs": []
    },
    {
      "cell_type": "code",
      "source": [
        "# =============== Datasets & Loaders ===============\n",
        "train_dataset = datasets.ImageFolder(train_dir, transform=train_transform)\n",
        "val_dataset = datasets.ImageFolder(val_dir, transform=val_transform)\n",
        "\n",
        "train_loader = DataLoader(train_dataset, batch_size=BATCH_SIZE, shuffle=True, num_workers=8, pin_memory=True)\n",
        "val_loader = DataLoader(val_dataset, batch_size=BATCH_SIZE, shuffle=False, num_workers=8, pin_memory=True)"
      ],
      "metadata": {
        "id": "kjEMtttcKYIP"
      },
      "execution_count": null,
      "outputs": []
    },
    {
      "cell_type": "code",
      "source": [
        "# =============== Mixup ============================\n",
        "def mixup_data(x, y, alpha=MIXUP_ALPHA):\n",
        "    if alpha > 0:\n",
        "        lam = np.random.beta(alpha, alpha)\n",
        "    else:\n",
        "        lam = 1\n",
        "    batch_size = x.size()[0]\n",
        "    index = torch.randperm(batch_size).to(device)\n",
        "    mixed_x = lam * x + (1 - lam) * x[index, :]\n",
        "    y_a, y_b = y, y[index]\n",
        "    return mixed_x, y_a, y_b, lam\n",
        "\n",
        "def mixup_criterion(criterion, pred, y_a, y_b, lam):\n",
        "    return lam * criterion(pred, y_a) + (1 - lam) * criterion(pred, y_b)"
      ],
      "metadata": {
        "id": "ebs8yu8QKeDx"
      },
      "execution_count": null,
      "outputs": []
    },
    {
      "cell_type": "code",
      "source": [
        "# =============== Model ============================\n",
        "weights = EfficientNet_B0_Weights.IMAGENET1K_V1\n",
        "model = models.efficientnet_b0(weights=weights)\n",
        "model.classifier[1] = nn.Sequential(\n",
        "    nn.Dropout(0.4),\n",
        "    nn.Linear(model.classifier[1].in_features, NUM_CLASSES)\n",
        ")\n",
        "model = model.to(device)"
      ],
      "metadata": {
        "id": "WcqV2UUNKjNN"
      },
      "execution_count": null,
      "outputs": []
    },
    {
      "cell_type": "code",
      "source": [
        "# =============== Loss, Optimizer, Scheduler ========\n",
        "criterion = nn.CrossEntropyLoss(label_smoothing=0.1)\n",
        "optimizer = optim.AdamW(model.parameters(), lr=LR, weight_decay=WEIGHT_DECAY)\n",
        "scheduler = optim.lr_scheduler.CosineAnnealingWarmRestarts(optimizer, T_0=10, T_mult=2)"
      ],
      "metadata": {
        "id": "tWcYkVnTKn60"
      },
      "execution_count": null,
      "outputs": []
    },
    {
      "cell_type": "code",
      "source": [
        "# =============== Training ==========================\n",
        "def train_one_epoch(model, loader, criterion, optimizer):\n",
        "    model.train()\n",
        "    running_loss, correct, total = 0.0, 0, 0\n",
        "\n",
        "    for imgs, labels in tqdm(loader, desc=\"Training\", leave=False):\n",
        "        imgs, labels = imgs.to(device), labels.to(device)\n",
        "        mixed_x, y_a, y_b, lam = mixup_data(imgs, labels)\n",
        "\n",
        "        optimizer.zero_grad()\n",
        "        outputs = model(mixed_x)\n",
        "        loss = mixup_criterion(criterion, outputs, y_a, y_b, lam)\n",
        "        loss.backward()\n",
        "        optimizer.step()\n",
        "\n",
        "        running_loss += loss.item() * imgs.size(0)\n",
        "        _, preds = outputs.max(1)\n",
        "        correct += (lam * preds.eq(y_a).sum().item() + (1 - lam) * preds.eq(y_b).sum().item())\n",
        "        total += labels.size(0)\n",
        "\n",
        "    return running_loss / total, 100. * correct / total\n",
        "\n",
        "# =============== Validation ========================\n",
        "def validate(model, loader, criterion):\n",
        "    model.eval()\n",
        "    running_loss, correct, total = 0.0, 0, 0\n",
        "\n",
        "    with torch.no_grad():\n",
        "        for imgs, labels in tqdm(loader, desc=\"Validation\", leave=False):\n",
        "            imgs, labels = imgs.to(device), labels.to(device)\n",
        "            outputs = model(imgs)\n",
        "            loss = criterion(outputs, labels)\n",
        "\n",
        "            running_loss += loss.item() * imgs.size(0)\n",
        "            _, preds = outputs.max(1)\n",
        "            correct += preds.eq(labels).sum().item()\n",
        "            total += labels.size(0)\n",
        "\n",
        "    return running_loss / total, 100. * correct / total"
      ],
      "metadata": {
        "id": "N33Fe2z7K01a"
      },
      "execution_count": null,
      "outputs": []
    },
    {
      "cell_type": "code",
      "source": [
        "# =============== Main Training Loop ================\n",
        "best_acc = 0.0\n",
        "os.makedirs(\"checkpoints\", exist_ok=True)\n",
        "\n",
        "for epoch in range(NUM_EPOCHS):\n",
        "    print(f\"\\n🔁 Epoch [{epoch+1}/{NUM_EPOCHS}]\")\n",
        "\n",
        "    train_loss, train_acc = train_one_epoch(model, train_loader, criterion, optimizer)\n",
        "    val_loss, val_acc = validate(model, val_loader, criterion)\n",
        "    scheduler.step(epoch + 1)\n",
        "\n",
        "    print(f\"📊 Train Loss: {train_loss:.4f} | Train Acc: {train_acc:.2f}%\")\n",
        "    print(f\"✅ Val   Loss: {val_loss:.4f} | Val   Acc: {val_acc:.2f}%\")\n",
        "\n",
        "    # Save best model\n",
        "    if val_acc > best_acc:\n",
        "        best_acc = val_acc\n",
        "        torch.save(model.state_dict(), f\"checkpoints/best_effnetb0_epoch{epoch+1}_acc{val_acc:.2f}.pth\")\n",
        "        print(f\"💾 Best model saved (Val Acc: {best_acc:.2f}%)\")"
      ],
      "metadata": {
        "id": "dkAMn2nfK17Q"
      },
      "execution_count": null,
      "outputs": []
    },
    {
      "cell_type": "code",
      "source": [],
      "metadata": {
        "id": "W_gAUZ9JLBKU"
      },
      "execution_count": null,
      "outputs": []
    }
  ]
}